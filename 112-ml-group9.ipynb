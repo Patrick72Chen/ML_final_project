{
 "cells": [
  {
   "cell_type": "code",
   "execution_count": null,
   "metadata": {
    "_cell_guid": "b1076dfc-b9ad-4769-8c92-a6c4dae69d19",
    "_kg_hide-input": true,
    "_uuid": "8f2839f25d086af736a60e9eeb907d3b93b6e0e5",
    "execution": {
     "iopub.execute_input": "2023-12-18T17:36:20.536447Z",
     "iopub.status.busy": "2023-12-18T17:36:20.536188Z",
     "iopub.status.idle": "2023-12-18T17:36:26.492027Z",
     "shell.execute_reply": "2023-12-18T17:36:26.491065Z",
     "shell.execute_reply.started": "2023-12-18T17:36:20.536423Z"
    }
   },
   "outputs": [],
   "source": [
    "import numpy as np \n",
    "import pandas as pd \n",
    "import warnings\n",
    "warnings.filterwarnings(\"ignore\")\n",
    "import os\n",
    "pd.plotting.register_matplotlib_converters()\n",
    "import matplotlib.pyplot as plt\n",
    "%matplotlib inline\n",
    "import seaborn as sns\n",
    "sns.set_style(\"dark\") # Theme for plots as Dark\n",
    "# sns.set_palette(\"viridis\")\n",
    "sns.color_palette(\"flare\")\n",
    "from catboost import CatBoostRegressor, Pool\n",
    "from xgboost import XGBRegressor\n",
    "from xgboost.callback import EarlyStopping\n",
    "from lightgbm import LGBMRegressor\n",
    "from sklearn.model_selection import train_test_split, cross_val_score, GridSearchCV, cross_validate, StratifiedKFold, RepeatedKFold, TimeSeriesSplit\n",
    "from sklearn.metrics import accuracy_score, roc_auc_score, confusion_matrix, mean_absolute_error\n",
    "from sklearn.impute import SimpleImputer\n",
    "from sklearn.ensemble import RandomForestRegressor\n",
    "from sklearn.ensemble import GradientBoostingRegressor\n",
    "from sklearn.ensemble import VotingRegressor, StackingRegressor\n",
    "from sklearn.ensemble import HistGradientBoostingRegressor\n",
    "import optuna\n",
    "import imblearn\n",
    "from imblearn.over_sampling import RandomOverSampler\n",
    "from imblearn.under_sampling import RandomUnderSampler\n",
    "from catboost import Pool, CatBoostRegressor, cv\n",
    "from itertools import combinations"
   ]
  },
  {
   "cell_type": "markdown",
   "metadata": {},
   "source": [
    "<div id=\"1\" style=\"background-color: #DDDDDD; padding: 20px; border-radius: 20px; border: 2px solid black;\">\n",
    "    <h1 style=\"font-family:  'Garamond', 'Lucida Sans', sans-serif; text-align: center; color: #000000; font-weight: bold; font-size: 42px;\">\n",
    "   Dataset Overview\n",
    "    </h1>\n",
    "</div>\n",
    "<div style=\"padding: 20px;font-size: 16px; font-family: 'Verdana'; color: #222222; text-align: left;\">This notebook expands upon the work done by @bzeniti: <a href=\"https://www.kaggle.com/code/bzeniti/simple-imputation-xgb-regressor\" style=\"color: #222222;text-decoration: underline;\">Notebook Link</a>.<br> Make sure to visit and upvote it. \n",
    "</div>"
   ]
  },
  {
   "cell_type": "code",
   "execution_count": null,
   "metadata": {
    "execution": {
     "iopub.execute_input": "2023-12-18T17:36:32.431583Z",
     "iopub.status.busy": "2023-12-18T17:36:32.430425Z",
     "iopub.status.idle": "2023-12-18T17:36:50.565229Z",
     "shell.execute_reply": "2023-12-18T17:36:50.564300Z",
     "shell.execute_reply.started": "2023-12-18T17:36:32.431549Z"
    }
   },
   "outputs": [],
   "source": [
    "df = pd.read_csv(\"/kaggle/input/optiver-trading-at-the-close/train.csv\")\n",
    "test_data = pd.read_csv(\"/kaggle/input/optiver-trading-at-the-close/example_test_files/test.csv\")\n",
    "test_target = pd.read_csv(\"/kaggle/input/optiver-trading-at-the-close/example_test_files/revealed_targets.csv\")\n",
    "sample_submission = pd.read_csv(\"/kaggle/input/optiver-trading-at-the-close/example_test_files/sample_submission.csv\")\n",
    "\n",
    "df.head()"
   ]
  },
  {
   "cell_type": "code",
   "execution_count": null,
   "metadata": {
    "execution": {
     "iopub.execute_input": "2023-12-18T17:36:53.610090Z",
     "iopub.status.busy": "2023-12-18T17:36:53.609706Z",
     "iopub.status.idle": "2023-12-18T17:36:54.171318Z",
     "shell.execute_reply": "2023-12-18T17:36:54.170386Z",
     "shell.execute_reply.started": "2023-12-18T17:36:53.610059Z"
    }
   },
   "outputs": [],
   "source": [
    "print(df.isna().sum().sort_values(ascending=False))"
   ]
  },
  {
   "cell_type": "code",
   "execution_count": null,
   "metadata": {
    "execution": {
     "iopub.execute_input": "2023-12-18T17:36:57.014864Z",
     "iopub.status.busy": "2023-12-18T17:36:57.013993Z",
     "iopub.status.idle": "2023-12-18T17:36:58.760498Z",
     "shell.execute_reply": "2023-12-18T17:36:58.759542Z",
     "shell.execute_reply.started": "2023-12-18T17:36:57.014830Z"
    }
   },
   "outputs": [],
   "source": [
    "columns_to_keep = df.columns.difference(['far_price', 'near_price'])\n",
    "df = df.dropna(subset=columns_to_keep)\n",
    "\n",
    "\n",
    "print(df.isna().sum().sort_values(ascending=False))"
   ]
  },
  {
   "cell_type": "markdown",
   "metadata": {},
   "source": [
    "<div id=\"2\" style=\"background-color: #DDDDDD; padding: 20px; border-radius: 20px; border: 2px solid black;\">\n",
    "    <h1 style=\"font-family:  'Garamond', 'Lucida Sans', sans-serif; text-align: center; color: #000000; font-weight: bold; font-size: 42px;\">\n",
    "   Simple Preprocessing\n",
    "    </h1>\n",
    "</div>"
   ]
  },
  {
   "cell_type": "code",
   "execution_count": null,
   "metadata": {
    "execution": {
     "iopub.execute_input": "2023-12-18T17:37:03.317344Z",
     "iopub.status.busy": "2023-12-18T17:37:03.316958Z",
     "iopub.status.idle": "2023-12-18T17:37:03.330208Z",
     "shell.execute_reply": "2023-12-18T17:37:03.329319Z",
     "shell.execute_reply.started": "2023-12-18T17:37:03.317315Z"
    }
   },
   "outputs": [],
   "source": [
    "def reduce_mem_usage(df, verbose=0):\n",
    "    \"\"\"\n",
    "    Iterate through all numeric columns of a dataframe and modify the data type\n",
    "    to reduce memory usage.\n",
    "    \"\"\"\n",
    "    start_mem = df.memory_usage().sum() / 1024**2\n",
    "    for col in df.columns:\n",
    "        col_type = df[col].dtype\n",
    "        if col_type != object:\n",
    "            c_min = df[col].min()\n",
    "            c_max = df[col].max()\n",
    "            if str(col_type)[:3] == \"int\":\n",
    "                if c_min > np.iinfo(np.int8).min and c_max < np.iinfo(np.int8).max:\n",
    "                    df[col] = df[col].astype(np.int8)\n",
    "                elif c_min > np.iinfo(np.int16).min and c_max < np.iinfo(np.int16).max:\n",
    "                    df[col] = df[col].astype(np.int16)\n",
    "                elif c_min > np.iinfo(np.int32).min and c_max < np.iinfo(np.int32).max:\n",
    "                    df[col] = df[col].astype(np.int32)\n",
    "                elif c_min > np.iinfo(np.int64).min and c_max < np.iinfo(np.int64).max:\n",
    "                    df[col] = df[col].astype(np.int64)\n",
    "            else:\n",
    "                # Check if the column's data type is a float\n",
    "                if c_min > np.finfo(np.float16).min and c_max < np.finfo(np.float16).max:\n",
    "                    df[col] = df[col].astype(np.float32)\n",
    "                elif c_min > np.finfo(np.float32).min and c_max < np.finfo(np.float32).max:\n",
    "                    df[col] = df[col].astype(np.float32)\n",
    "                else:\n",
    "                    df[col] = df[col].astype(np.float32)\n",
    "    if verbose:\n",
    "        logger.info(f\"Memory usage of dataframe is {start_mem:.2f} MB\")\n",
    "        end_mem = df.memory_usage().sum() / 1024**2\n",
    "        logger.info(f\"Memory usage after optimization is: {end_mem:.2f} MB\")\n",
    "        decrease = 100 * (start_mem - end_mem) / start_mem\n",
    "        logger.info(f\"Decreased by {decrease:.2f}%\")\n",
    "\n",
    "    # 🔄 Return the DataFrame with optimized memory usage\n",
    "    return df"
   ]
  },
  {
   "cell_type": "code",
   "execution_count": null,
   "metadata": {
    "execution": {
     "iopub.execute_input": "2023-12-18T17:37:06.277357Z",
     "iopub.status.busy": "2023-12-18T17:37:06.276979Z",
     "iopub.status.idle": "2023-12-18T17:37:06.881219Z",
     "shell.execute_reply": "2023-12-18T17:37:06.880423Z",
     "shell.execute_reply.started": "2023-12-18T17:37:06.277328Z"
    }
   },
   "outputs": [],
   "source": [
    "from numba import njit, prange\n",
    "@njit(parallel=True)\n",
    "def compute_triplet_imbalance(df_values, comb_indices):\n",
    "    num_rows = df_values.shape[0]\n",
    "    num_combinations = len(comb_indices)\n",
    "    imbalance_features = np.empty((num_rows, num_combinations))\n",
    "    for i in prange(num_combinations):\n",
    "        a, b, c = comb_indices[i]\n",
    "        for j in range(num_rows):\n",
    "            max_val = max(df_values[j, a], df_values[j, b], df_values[j, c])\n",
    "            min_val = min(df_values[j, a], df_values[j, b], df_values[j, c])\n",
    "            mid_val = df_values[j, a] + df_values[j, b] + df_values[j, c] - min_val - max_val\n",
    "            if mid_val == min_val:\n",
    "                imbalance_features[j, i] = np.nan\n",
    "            else:\n",
    "                imbalance_features[j, i] = (max_val - mid_val) / (mid_val - min_val)\n",
    "\n",
    "    return imbalance_features"
   ]
  },
  {
   "cell_type": "code",
   "execution_count": null,
   "metadata": {
    "execution": {
     "iopub.execute_input": "2023-12-18T17:37:10.080411Z",
     "iopub.status.busy": "2023-12-18T17:37:10.080047Z",
     "iopub.status.idle": "2023-12-18T17:37:10.086732Z",
     "shell.execute_reply": "2023-12-18T17:37:10.085692Z",
     "shell.execute_reply.started": "2023-12-18T17:37:10.080382Z"
    }
   },
   "outputs": [],
   "source": [
    "def calculate_triplet_imbalance_numba(price, df):\n",
    "    df_values = df[price].values\n",
    "    comb_indices = [(price.index(a), price.index(b), price.index(c)) for a, b, c in combinations(price, 3)]\n",
    "    features_array = compute_triplet_imbalance(df_values, comb_indices)\n",
    "    columns = [f\"{a}_{b}_{c}_imb2\" for a, b, c in combinations(price, 3)]\n",
    "    features = pd.DataFrame(features_array, columns=columns)\n",
    "    return features"
   ]
  },
  {
   "cell_type": "code",
   "execution_count": null,
   "metadata": {
    "execution": {
     "iopub.execute_input": "2023-12-18T17:37:13.025791Z",
     "iopub.status.busy": "2023-12-18T17:37:13.024959Z",
     "iopub.status.idle": "2023-12-18T17:37:13.039873Z",
     "shell.execute_reply": "2023-12-18T17:37:13.039003Z",
     "shell.execute_reply.started": "2023-12-18T17:37:13.025756Z"
    }
   },
   "outputs": [],
   "source": [
    "def imbalance_features(df):\n",
    "    prices = [\"reference_price\", \"far_price\", \"near_price\", \"ask_price\", \"bid_price\", \"wap\"]\n",
    "    sizes = [\"matched_size\", \"bid_size\", \"ask_size\", \"imbalance_size\"]\n",
    "    df[\"volume\"] = df.eval(\"ask_size + bid_size\")\n",
    "    df[\"mid_price\"] = df.eval(\"(ask_price + bid_price) / 2\")\n",
    "    df[\"liquidity_imbalance\"] = df.eval(\"(bid_size-ask_size)/(bid_size+ask_size)\")\n",
    "    df[\"matched_imbalance\"] = df.eval(\"(imbalance_size-matched_size)/(matched_size+imbalance_size)\")\n",
    "    df[\"size_imbalance\"] = df.eval(\"bid_size / ask_size\")\n",
    "    for c in combinations(prices, 2):\n",
    "        df[f\"{c[0]}_{c[1]}_imb\"] = df.eval(f\"({c[0]} - {c[1]})/({c[0]} + {c[1]})\")\n",
    "    for c in [['ask_price', 'bid_price', 'wap', 'reference_price'], sizes]:\n",
    "        triplet_feature = calculate_triplet_imbalance_numba(c, df)\n",
    "        df[triplet_feature.columns] = triplet_feature.values\n",
    "    df[\"imbalance_momentum\"] = df.groupby(['stock_id'])['imbalance_size'].diff(periods=1) / df['matched_size']\n",
    "    df[\"price_spread\"] = df[\"ask_price\"] - df[\"bid_price\"]\n",
    "    df[\"spread_intensity\"] = df.groupby(['stock_id'])['price_spread'].diff()\n",
    "    df['price_pressure'] = df['imbalance_size'] * (df['ask_price'] - df['bid_price'])\n",
    "    df['market_urgency'] = df['price_spread'] * df['liquidity_imbalance']\n",
    "    df['depth_pressure'] = (df['ask_size'] - df['bid_size']) * (df['far_price'] - df['near_price'])\n",
    "    for func in [\"mean\", \"std\", \"skew\", \"kurt\"]:\n",
    "        df[f\"all_prices_{func}\"] = df[prices].agg(func, axis=1)\n",
    "        df[f\"all_sizes_{func}\"] = df[sizes].agg(func, axis=1)\n",
    "    for col in ['matched_size', 'imbalance_size', 'reference_price', 'imbalance_buy_sell_flag']:\n",
    "        for window in [1, 2, 3, 10]:\n",
    "            df[f\"{col}_shift_{window}\"] = df.groupby('stock_id')[col].shift(window)\n",
    "            df[f\"{col}_ret_{window}\"] = df.groupby('stock_id')[col].pct_change(window)\n",
    "    for col in ['ask_price', 'bid_price', 'ask_size', 'bid_size']:\n",
    "        for window in [1, 2, 3, 10]:\n",
    "            df[f\"{col}_diff_{window}\"] = df.groupby(\"stock_id\")[col].diff(window)\n",
    "    return df.replace([np.inf, -np.inf], 0)\n"
   ]
  },
  {
   "cell_type": "code",
   "execution_count": null,
   "metadata": {
    "execution": {
     "iopub.execute_input": "2023-12-18T17:37:15.650092Z",
     "iopub.status.busy": "2023-12-18T17:37:15.649717Z",
     "iopub.status.idle": "2023-12-18T17:38:03.186168Z",
     "shell.execute_reply": "2023-12-18T17:38:03.185279Z",
     "shell.execute_reply.started": "2023-12-18T17:37:15.650064Z"
    }
   },
   "outputs": [],
   "source": [
    "df = imbalance_features(df)"
   ]
  },
  {
   "cell_type": "code",
   "execution_count": null,
   "metadata": {
    "execution": {
     "iopub.execute_input": "2023-12-18T17:38:07.670742Z",
     "iopub.status.busy": "2023-12-18T17:38:07.669992Z",
     "iopub.status.idle": "2023-12-18T17:38:08.837869Z",
     "shell.execute_reply": "2023-12-18T17:38:08.836927Z",
     "shell.execute_reply.started": "2023-12-18T17:38:07.670708Z"
    }
   },
   "outputs": [],
   "source": [
    "pd.set_option('display.max_rows', None)\n",
    "print(df.isna().sum().sort_values(ascending=False))"
   ]
  },
  {
   "cell_type": "code",
   "execution_count": null,
   "metadata": {
    "execution": {
     "iopub.execute_input": "2023-12-18T17:38:15.130592Z",
     "iopub.status.busy": "2023-12-18T17:38:15.130250Z",
     "iopub.status.idle": "2023-12-18T17:38:19.607044Z",
     "shell.execute_reply": "2023-12-18T17:38:19.606149Z",
     "shell.execute_reply.started": "2023-12-18T17:38:15.130568Z"
    }
   },
   "outputs": [],
   "source": [
    "df = df.fillna(-1)\n",
    "pd.set_option('display.max_rows', None)\n",
    "print(df.isna().sum().sort_values(ascending=False))"
   ]
  },
  {
   "cell_type": "markdown",
   "metadata": {},
   "source": [
    "<div id=\"4\" style=\"background-color: #DDDDDD; padding: 20px; border-radius: 20px; border: 2px solid black;\">\n",
    "    <h1 style=\"font-family:  'Garamond', 'Lucida Sans', sans-serif; text-align: center; color: #000000; font-weight: bold; font-size: 42px;\">\n",
    "   Training Models\n",
    "    </h1>\n",
    "</div>"
   ]
  },
  {
   "cell_type": "code",
   "execution_count": null,
   "metadata": {
    "execution": {
     "iopub.execute_input": "2023-12-18T17:38:23.910818Z",
     "iopub.status.busy": "2023-12-18T17:38:23.909950Z",
     "iopub.status.idle": "2023-12-18T17:38:36.041625Z",
     "shell.execute_reply": "2023-12-18T17:38:36.040822Z",
     "shell.execute_reply.started": "2023-12-18T17:38:23.910787Z"
    }
   },
   "outputs": [],
   "source": [
    "df.set_index('row_id', inplace=True)\n",
    "\n",
    "X = df.drop(['target'], axis=1)\n",
    "y = df['target']\n",
    "\n",
    "\n",
    "X_train, X_test, y_train, y_test = train_test_split(X, y, test_size = 0.3, random_state = 21)\n",
    "\n",
    "seed = np.random.seed(6)"
   ]
  },
  {
   "cell_type": "markdown",
   "metadata": {},
   "source": [
    "<div id=\"4.1\" >\n",
    "    <h1 style=\"font-family:  'Garamond', 'Lucida Sans', sans-serif; text-align: center; color: #263A29; font-weight: bold; font-size: 36px;\">\n",
    "   3.1 Baseline XGB Model\n",
    "    </h1>\n",
    "</div>\n",
    "<hr>"
   ]
  },
  {
   "cell_type": "code",
   "execution_count": null,
   "metadata": {
    "execution": {
     "iopub.execute_input": "2023-12-18T17:38:41.941137Z",
     "iopub.status.busy": "2023-12-18T17:38:41.940409Z",
     "iopub.status.idle": "2023-12-18T17:40:52.272185Z",
     "shell.execute_reply": "2023-12-18T17:40:52.271159Z",
     "shell.execute_reply.started": "2023-12-18T17:38:41.941107Z"
    }
   },
   "outputs": [],
   "source": [
    "#6.366228412975999\n",
    "xgb = XGBRegressor(n_estimators = 100,tree_method=\"gpu_hist\")\n",
    "print(\"CV score of XGB is \",-1*cross_val_score(xgb,X,y,cv=3, scoring = 'neg_mean_absolute_error').mean())"
   ]
  },
  {
   "cell_type": "markdown",
   "metadata": {},
   "source": [
    "<div id=\"4.2\" >\n",
    "    <h1 style=\"font-family:  'Garamond', 'Lucida Sans', sans-serif; text-align: center; color: #263A29; font-weight: bold; font-size: 36px;\">\n",
    "   3.2 Baseline CatBoost Model\n",
    "    </h1>\n",
    "</div>\n",
    "<hr>"
   ]
  },
  {
   "cell_type": "code",
   "execution_count": null,
   "metadata": {
    "execution": {
     "iopub.execute_input": "2023-12-18T17:43:19.773935Z",
     "iopub.status.busy": "2023-12-18T17:43:19.773553Z",
     "iopub.status.idle": "2023-12-18T17:46:08.959910Z",
     "shell.execute_reply": "2023-12-18T17:46:08.958909Z",
     "shell.execute_reply.started": "2023-12-18T17:43:19.773908Z"
    }
   },
   "outputs": [],
   "source": [
    "#6.296262366690487\n",
    "cat = CatBoostRegressor(n_estimators = 50,verbose=50)\n",
    "print(\"CV score of CAT is \",-1*cross_val_score(cat,X,y,cv=3, scoring = 'neg_mean_absolute_error').mean())"
   ]
  },
  {
   "cell_type": "markdown",
   "metadata": {},
   "source": [
    "<div id=\"4.3\" >\n",
    "    <h1 style=\"font-family:  'Garamond', 'Lucida Sans', sans-serif; text-align: center; color: #263A29; font-weight: bold; font-size: 36px;\">\n",
    "  3.3 Baseline LGBM Model\n",
    "    </h1>\n",
    "</div>\n",
    "<hr>"
   ]
  },
  {
   "cell_type": "code",
   "execution_count": null,
   "metadata": {
    "execution": {
     "iopub.execute_input": "2023-12-18T17:46:54.561948Z",
     "iopub.status.busy": "2023-12-18T17:46:54.561180Z"
    }
   },
   "outputs": [],
   "source": [
    "#6.2747298085620935\n",
    "lgbm = LGBMRegressor(n_estimators = 100, verbose=0, force_col_wise=True, device=\"gpu\")\n",
    "print(\"CV score of LGBM is \",-1*cross_val_score(lgbm,X,y,cv=3, scoring = 'neg_mean_absolute_error').mean())"
   ]
  },
  {
   "cell_type": "markdown",
   "metadata": {},
   "source": [
    "<div id=\"4.4\" >\n",
    "    <h1 style=\"font-family:  'Garamond', 'Lucida Sans', sans-serif; text-align: center; color: #263A29; font-weight: bold; font-size: 36px;\">\n",
    "   3.4 Optuna-Tuning XGB Model\n",
    "    </h1>\n",
    "</div>\n",
    "<hr>"
   ]
  },
  {
   "cell_type": "code",
   "execution_count": null,
   "metadata": {
    "_kg_hide-input": true,
    "jupyter": {
     "source_hidden": true
    }
   },
   "outputs": [],
   "source": [
    "# def objective(trial):\n",
    "#     params = {\n",
    "#         'n_estimators' : trial.suggest_int('n_estimators',100,500),\n",
    "#         'max_depth':  trial.suggest_int('max_depth',3,25),\n",
    "#         'min_child_weight': trial.suggest_float('min_child_weight', 2,50),\n",
    "#         \"learning_rate\" : trial.suggest_float('learning_rate',1e-4, 0.2,log=True),\n",
    "#         'subsample': trial.suggest_float('subsample', 0.2, 1),\n",
    "#         'gamma': trial.suggest_float(\"gamma\", 1e-4, 1.0),\n",
    "#         \"colsample_bytree\" : trial.suggest_float('colsample_bytree',0.2,1),\n",
    "#         \"colsample_bylevel\" : trial.suggest_float('colsample_bylevel',0.2,1),\n",
    "#         \"colsample_bynode\" : trial.suggest_float('colsample_bynode',0.2,1),\n",
    "#     }\n",
    "#     xgbmodel_optuna = XGBRegressor(**params,random_state=seed,tree_method = \"gpu_hist\")\n",
    "#     cv = -1*cross_val_score(xgbmodel_optuna, X, y, cv = 3,scoring='neg_mean_absolute_error').mean()\n",
    "#     return cv\n",
    "\n",
    "# study = optuna.create_study(direction='minimize')\n",
    "# study.optimize(objective, n_trials=100,timeout=2000)"
   ]
  },
  {
   "cell_type": "code",
   "execution_count": null,
   "metadata": {},
   "outputs": [],
   "source": [
    "# def objective(trial):\n",
    "#     params = {\n",
    "#         'n_estimators' : trial.suggest_int('n_estimators',100,500),\n",
    "#         'max_depth':  trial.suggest_int('max_depth',3,25),\n",
    "#         'min_child_weight': trial.suggest_float('min_child_weight', 2,50),\n",
    "#         \"learning_rate\" : trial.suggest_float('learning_rate',1e-4, 0.2,log=True),\n",
    "#         'subsample': trial.suggest_float('subsample', 0.2, 1),\n",
    "#         'gamma': trial.suggest_float(\"gamma\", 1e-4, 1.0),\n",
    "#         \"colsample_bytree\" : trial.suggest_float('colsample_bytree',0.2,1),\n",
    "#         \"colsample_bylevel\" : trial.suggest_float('colsample_bylevel',0.2,1),\n",
    "#         \"colsample_bynode\" : trial.suggest_float('colsample_bynode',0.2,1),\n",
    "#     }\n",
    "#     xgbmodel_optuna = XGBRegressor(**params,random_state=seed,tree_method = \"gpu_hist\")\n",
    "#     cv = -1*cross_val_score(xgbmodel_optuna, X, y, cv = 3,scoring='neg_mean_absolute_error').mean()\n",
    "#     return cv\n",
    "\n",
    "# study = optuna.create_study(direction='minimize')\n",
    "# study.optimize(objective, n_trials=100,timeout=2000)"
   ]
  },
  {
   "cell_type": "code",
   "execution_count": null,
   "metadata": {
    "execution": {
     "iopub.execute_input": "2023-12-18T13:44:32.221750Z",
     "iopub.status.busy": "2023-12-18T13:44:32.221391Z",
     "iopub.status.idle": "2023-12-18T14:15:12.098370Z",
     "shell.execute_reply": "2023-12-18T14:15:12.097254Z",
     "shell.execute_reply.started": "2023-12-18T13:44:32.221726Z"
    }
   },
   "outputs": [],
   "source": [
    "# 6.272049186519806\n",
    "xgb_params = {'max_depth': 20, 'min_child_weight': 25.551523309923255,\n",
    "              'learning_rate': 0.006449859500510082, 'subsample': 0.7408613470518393,\n",
    "              'gamma': 0.517595045309937, 'colsample_bytree': 0.25779788854085006,\n",
    "              'colsample_bylevel': 0.5934831570321946, 'colsample_bynode': 0.5628928537973386}\n",
    "\n",
    "xgb_opt = XGBRegressor(**xgb_params,n_estimators = 387,random_state=seed,tree_method = \"gpu_hist\")\n",
    "print(\"CV score of Optuna XGB is \",-1*cross_val_score(xgb_opt,X,y,cv=3, scoring = 'neg_mean_absolute_error').mean())"
   ]
  },
  {
   "cell_type": "markdown",
   "metadata": {},
   "source": [
    "<div id=\"4.5\" >\n",
    "    <h1 style=\"font-family:  'Garamond', 'Lucida Sans', sans-serif; text-align: center; color: #263A29; font-weight: bold; font-size: 36px;\">\n",
    "   3.5 Optuna-Tuning LGBM Model\n",
    "    </h1>\n",
    "</div>\n",
    "<hr>"
   ]
  },
  {
   "cell_type": "code",
   "execution_count": null,
   "metadata": {
    "_kg_hide-input": true,
    "jupyter": {
     "source_hidden": true
    }
   },
   "outputs": [],
   "source": [
    "# def objective(trial):\n",
    "#     params = {\n",
    "#         'n_estimators' : trial.suggest_int('n_estimators',100,1000),\n",
    "#         \"max_depth\":trial.suggest_int('max_depth',3,40),\n",
    "#         \"learning_rate\" : trial.suggest_float('learning_rate',1e-4, 0.25, log=True),\n",
    "#         \"min_child_weight\" : trial.suggest_float('min_child_weight', 0.5,4),\n",
    "#         \"min_child_samples\" : trial.suggest_int('min_child_samples',1,100),\n",
    "#         \"subsample\" : trial.suggest_float('subsample', 0.2, 1),\n",
    "#         \"subsample_freq\" : trial.suggest_int('subsample_freq',0,5),\n",
    "#         \"colsample_bytree\" : trial.suggest_float('colsample_bytree',0.2,1),\n",
    "#         'num_leaves' : trial.suggest_int('num_leaves', 2, 128),\n",
    "#     }\n",
    "#     lgbmmodel_optuna = LGBMRegressor(**params,random_state=seed,device=\"gpu\")\n",
    "#     cv = -1*cross_val_score(lgbmmodel_optuna, X, y, cv = 3,scoring='neg_mean_absolute_error').mean()\n",
    "#     return cv\n",
    "\n",
    "# study = optuna.create_study(direction='minimize')\n",
    "# study.optimize(objective, n_trials=100,timeout=2000)"
   ]
  },
  {
   "cell_type": "code",
   "execution_count": null,
   "metadata": {},
   "outputs": [],
   "source": [
    "# def objective(trial):\n",
    "#     params = {\n",
    "#         'n_estimators' : trial.suggest_int('n_estimators',100,1000),\n",
    "#         \"max_depth\":trial.suggest_int('max_depth',3,40),\n",
    "#         \"learning_rate\" : trial.suggest_float('learning_rate',1e-4, 0.25, log=True),\n",
    "#         \"min_child_weight\" : trial.suggest_float('min_child_weight', 0.5,4),\n",
    "#         \"min_child_samples\" : trial.suggest_int('min_child_samples',1,100),\n",
    "#         \"subsample\" : trial.suggest_float('subsample', 0.2, 1),\n",
    "#         \"subsample_freq\" : trial.suggest_int('subsample_freq',0,5),\n",
    "#         \"colsample_bytree\" : trial.suggest_float('colsample_bytree',0.2,1),\n",
    "#         'num_leaves' : trial.suggest_int('num_leaves', 2, 128),\n",
    "#     }\n",
    "#     lgbmmodel_optuna = LGBMRegressor(**params,random_state=seed,device=\"gpu\")\n",
    "#     cv = -1*cross_val_score(lgbmmodel_optuna, X, y, cv = 3,scoring='neg_mean_absolute_error').mean()\n",
    "#     return cv\n",
    "\n",
    "# study = optuna.create_study(direction='minimize')\n",
    "# study.optimize(objective, n_trials=100,timeout=2000)"
   ]
  },
  {
   "cell_type": "code",
   "execution_count": null,
   "metadata": {
    "execution": {
     "iopub.execute_input": "2023-12-18T14:17:50.860173Z",
     "iopub.status.busy": "2023-12-18T14:17:50.859244Z"
    }
   },
   "outputs": [],
   "source": [
    "lgbm_params = {'max_depth': 36, 'learning_rate': 0.0105942655225861,\n",
    "               'min_child_weight': 1.9489096317119756, 'min_child_samples': 66,\n",
    "               'subsample': 0.34776401409168767, 'subsample_freq': 4,\n",
    "               'colsample_bytree': 0.8255341076749996, 'num_leaves': 55}\n",
    "\n",
    "lgbm_opt = LGBMRegressor(**lgbm_params, n_estimators = 208, device=\"gpu\")\n",
    "print(\"CV score of Optuna LGBM is \",-1*cross_val_score(lgbm_opt,X,y,cv=3, scoring = 'neg_mean_absolute_error').mean())"
   ]
  },
  {
   "cell_type": "markdown",
   "metadata": {},
   "source": [
    "<div id=\"4.6\" >\n",
    "    <h1 style=\"font-family:  'Garamond', 'Lucida Sans', sans-serif; text-align: center; color: #263A29; font-weight: bold; font-size: 36px;\">\n",
    "   3.6 Time-Series Split 4-Fold EarlyStopping\n",
    "    </h1>\n",
    "</div>\n",
    "<hr>"
   ]
  },
  {
   "cell_type": "code",
   "execution_count": null,
   "metadata": {},
   "outputs": [],
   "source": [
    "SPLITS = 4\n",
    "cat_score = []\n",
    "models = []\n",
    "\n",
    "for i,(tr,val) in enumerate(TimeSeriesSplit(n_splits=SPLITS,test_size=1000000).split(X,y)):\n",
    "    \n",
    "    print(\"-\"*30,f\"FOLD {i+1}/{SPLITS}\",\"-\"*30)\n",
    "    X_train, X_test, y_train, y_test = X.iloc[tr,:],X.iloc[val,:],y.iloc[tr],y.iloc[val]\n",
    "    print(\"Train Dataset:\",len(X_train),\"Test Dataset:\",len(X_test))\n",
    "    train_dataset = Pool(data=X.iloc[tr,:],label=y.iloc[tr])\n",
    "    eval_dataset = Pool(data=X.iloc[val,:],label=y.iloc[val])\n",
    "    catmodel = CatBoostRegressor(iterations=2000,verbose=250, od_type=\"Iter\",eval_metric=\"MAE\", random_seed=seed,early_stopping_rounds=250,learning_rate=0.085)\n",
    "    catmodel.fit(train_dataset, use_best_model=True, eval_set=eval_dataset)\n",
    "    mae = mean_absolute_error(y.iloc[val], catmodel.predict(X.iloc[val,:]))\n",
    "    cat_score.append(mae)\n",
    "    if mae<7:\n",
    "        models.append(catmodel)\n",
    "    \n",
    "print(\"\\n\\n\",\"-\"*50,sep=\"\")\n",
    "print(\"CV score of CAT is \",np.array(cat_score).mean())"
   ]
  },
  {
   "cell_type": "code",
   "execution_count": null,
   "metadata": {
    "_kg_hide-input": true,
    "jupyter": {
     "source_hidden": true
    }
   },
   "outputs": [],
   "source": [
    "# SPLITS = 4\n",
    "# REPEATS = 1\n",
    "# cat_score = []\n",
    "# models = []\n",
    "\n",
    "# for i,(tr,val) in enumerate(RepeatedKFold(n_splits=SPLITS, n_repeats=REPEATS,random_state=seed).split(X,y)):\n",
    "    \n",
    "#     print(\"-\"*30,f\"FOLD {i+1}/{SPLITS*REPEATS}\",\"-\"*30)\n",
    "#     X_train, X_test, y_train, y_test = X.iloc[tr,:],X.iloc[val,:],y.iloc[tr],y.iloc[val]\n",
    "    \n",
    "#     train_dataset = Pool(data=X.iloc[tr,:],label=y.iloc[tr])\n",
    "#     eval_dataset = Pool(data=X.iloc[val,:],label=y.iloc[val])\n",
    "#     catmodel = CatBoostRegressor(iterations=1000,verbose=100, od_type=\"Iter\",eval_metric=\"MAE\", random_seed=seed,early_stopping_rounds=50)\n",
    "#     catmodel.fit(train_dataset, use_best_model=True, eval_set=eval_dataset)\n",
    "#     mae = mean_absolute_error(y.iloc[val], catmodel.predict(X.iloc[val,:]))\n",
    "#     cat_score.append(mae)\n",
    "#     models.append(catmodel)\n",
    "    \n",
    "# print(\"\\n\\n\",\"-\"*50,sep=\"\")\n",
    "# print(\"CV score of CAT is \",np.array(cat_score).mean())"
   ]
  },
  {
   "cell_type": "markdown",
   "metadata": {},
   "source": [
    "<div id=\"4.4\" >\n",
    "    <h1 style=\"font-family:  'Garamond', 'Lucida Sans', sans-serif; text-align: center; color: #263A29; font-weight: bold; font-size: 36px;\">\n",
    "   3.4 Evaluating OOF 4-Fold CatBoost \n",
    "    </h1>\n",
    "</div>\n",
    "<hr>"
   ]
  },
  {
   "cell_type": "code",
   "execution_count": null,
   "metadata": {},
   "outputs": [],
   "source": [
    "sub = pd.DataFrame()\n",
    "sub[\"index\"] = X_test.index\n",
    "sub[\"preds\"] = 0\n",
    "\n",
    "for i,model in enumerate(models):\n",
    "    print(f\"> Getting preds from Model{i+1}\")\n",
    "    sub[\"preds\"] += model.predict(X_test)\n",
    "\n",
    "sub[\"preds\"] = sub[\"preds\"]/len(models)    "
   ]
  },
  {
   "cell_type": "code",
   "execution_count": null,
   "metadata": {},
   "outputs": [],
   "source": [
    "mae = mean_absolute_error(y_test, sub[\"preds\"])\n",
    "print(f\"MAE of merged predictions: {mae}\")"
   ]
  },
  {
   "cell_type": "code",
   "execution_count": null,
   "metadata": {},
   "outputs": [],
   "source": [
    "xgb_opt.fit(X,y)\n",
    "lgbm_opt.fit(X,y)\n",
    "models.extend([xgb_opt,lgbm_opt])\n",
    "len(models)"
   ]
  },
  {
   "cell_type": "markdown",
   "metadata": {},
   "source": [
    "<div id=\"4.5\" >\n",
    "    <h1 style=\"font-family:  'Garamond', 'Lucida Sans', sans-serif; text-align: center; color: #263A29; font-weight: bold; font-size: 36px;\">\n",
    "   3.5 Predictions on Example 'test.csv'\n",
    "    </h1>\n",
    "</div>\n",
    "<hr>"
   ]
  },
  {
   "cell_type": "code",
   "execution_count": null,
   "metadata": {
    "execution": {
     "iopub.execute_input": "2023-12-18T14:42:52.522999Z",
     "iopub.status.busy": "2023-12-18T14:42:52.522130Z",
     "iopub.status.idle": "2023-12-18T14:42:52.528190Z",
     "shell.execute_reply": "2023-12-18T14:42:52.527257Z",
     "shell.execute_reply.started": "2023-12-18T14:42:52.522961Z"
    }
   },
   "outputs": [],
   "source": [
    "def Preprocess1(data):\n",
    "    data.set_index(\"row_id\",inplace=True)\n",
    "    data.drop(['far_price', 'near_price'], axis = 1,inplace=True)\n",
    "    return data"
   ]
  },
  {
   "cell_type": "code",
   "execution_count": null,
   "metadata": {
    "execution": {
     "iopub.execute_input": "2023-12-18T14:42:55.424315Z",
     "iopub.status.busy": "2023-12-18T14:42:55.423418Z",
     "iopub.status.idle": "2023-12-18T14:42:55.448386Z",
     "shell.execute_reply": "2023-12-18T14:42:55.447420Z",
     "shell.execute_reply.started": "2023-12-18T14:42:55.424268Z"
    }
   },
   "outputs": [],
   "source": [
    "test_data = Preprocess1(test_data)\n",
    "test_data.drop(['time_id'], axis = 1,inplace=True)\n",
    "test_data.head()"
   ]
  },
  {
   "cell_type": "code",
   "execution_count": null,
   "metadata": {
    "execution": {
     "iopub.execute_input": "2023-12-18T14:43:03.920259Z",
     "iopub.status.busy": "2023-12-18T14:43:03.919854Z",
     "iopub.status.idle": "2023-12-18T14:43:03.934338Z",
     "shell.execute_reply": "2023-12-18T14:43:03.933242Z",
     "shell.execute_reply.started": "2023-12-18T14:43:03.920228Z"
    }
   },
   "outputs": [],
   "source": [
    "test_target.head()"
   ]
  },
  {
   "cell_type": "code",
   "execution_count": null,
   "metadata": {
    "execution": {
     "iopub.execute_input": "2023-12-18T14:43:10.858493Z",
     "iopub.status.busy": "2023-12-18T14:43:10.857442Z",
     "iopub.status.idle": "2023-12-18T14:43:10.904525Z",
     "shell.execute_reply": "2023-12-18T14:43:10.903269Z",
     "shell.execute_reply.started": "2023-12-18T14:43:10.858451Z"
    }
   },
   "outputs": [],
   "source": [
    "y_sample_pred = pd.DataFrame()\n",
    "y_sample_pred[\"index\"] =  test_data.index\n",
    "y_sample_pred[\"preds\"] = 0\n",
    "\n",
    "for i,model in enumerate(models):\n",
    "    print(f\"> Getting preds from Model{i+1}\")\n",
    "    y_sample_pred[\"preds\"] += model.predict(test_data)\n",
    "\n",
    "y_sample_pred[\"preds\"] = y_sample_pred[\"preds\"]/len(models)    \n",
    "\n",
    "y_sample_true = test_target['revealed_target'].dropna()"
   ]
  },
  {
   "cell_type": "code",
   "execution_count": null,
   "metadata": {},
   "outputs": [],
   "source": [
    "mae_test = mean_absolute_error(y_sample_pred[\"preds\"], y_sample_true)\n",
    "print(f\"MAE on the test Dataset: {mae_test}\")"
   ]
  },
  {
   "cell_type": "markdown",
   "metadata": {},
   "source": [
    "<div id=\"5\" style=\"background-color: #DDDDDD; padding: 20px; border-radius: 20px; border: 2px solid black;\">\n",
    "    <h1 style=\"font-family:  'Garamond', 'Lucida Sans', sans-serif; text-align: center; color: #000000; font-weight: bold; font-size: 42px;\">\n",
    "   Submission from API\n",
    "    </h1>\n",
    "</div>"
   ]
  },
  {
   "cell_type": "code",
   "execution_count": null,
   "metadata": {},
   "outputs": [],
   "source": [
    "import optiver2023\n",
    "env = optiver2023.make_env()\n",
    "iter_test = env.iter_test()\n",
    "counter = 0\n",
    "for (test, revealed_targets, sample_prediction) in iter_test:\n",
    "    if counter == 0:\n",
    "        print(\"Submitting Predictions\")\n",
    "\n",
    "    test_df = Preprocess1(test)\n",
    "    test_df = applyPreprocess2(test_df)\n",
    "    \n",
    "    sample_prediction['target'] = 0\n",
    "    \n",
    "    for i,model in enumerate(models):\n",
    "        sample_prediction[\"target\"] += model.predict(test_df)\n",
    "        \n",
    "    sample_prediction[\"target\"] = sample_prediction[\"target\"]/len(models)    \n",
    "    \n",
    "    env.predict(sample_prediction)\n",
    "    counter += 1"
   ]
  },
  {
   "cell_type": "code",
   "execution_count": null,
   "metadata": {},
   "outputs": [],
   "source": [
    "print(sample_prediction.head(20))"
   ]
  }
 ],
 "metadata": {
  "kaggle": {
   "accelerator": "gpu",
   "dataSources": [
    {
     "databundleVersionId": 7056235,
     "sourceId": 57891,
     "sourceType": "competition"
    }
   ],
   "dockerImageVersionId": 30559,
   "isGpuEnabled": true,
   "isInternetEnabled": false,
   "language": "python",
   "sourceType": "notebook"
  },
  "kernelspec": {
   "display_name": "Python 3 (ipykernel)",
   "language": "python",
   "name": "python3"
  },
  "language_info": {
   "codemirror_mode": {
    "name": "ipython",
    "version": 3
   },
   "file_extension": ".py",
   "mimetype": "text/x-python",
   "name": "python",
   "nbconvert_exporter": "python",
   "pygments_lexer": "ipython3",
   "version": "3.11.5"
  }
 },
 "nbformat": 4,
 "nbformat_minor": 4
}
